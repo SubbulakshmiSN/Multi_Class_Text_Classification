{
  "cells": [
    {
      "cell_type": "markdown",
      "metadata": {
        "id": "view-in-github",
        "colab_type": "text"
      },
      "source": [
        "<a href=\"https://colab.research.google.com/github/SubbulakshmiSN/Multi_Class_Text_Classification/blob/main/Subbulakshmi_S_Assignment.ipynb\" target=\"_parent\"><img src=\"https://colab.research.google.com/assets/colab-badge.svg\" alt=\"Open In Colab\"/></a>"
      ]
    },
    {
      "cell_type": "markdown",
      "id": "33a64a66",
      "metadata": {
        "id": "33a64a66"
      },
      "source": [
        "## Multi Class Text Classification"
      ]
    },
    {
      "cell_type": "markdown",
      "source": [
        "# Introduction\n",
        "\n",
        "The project involves working with a multi-label classification problem in a structured data environment. The goal is to predict multiple labels for given inputs, which is common in various domains such as healthcare, finance, and marketing. Multi-label classification helps in understanding and predicting complex relationships within the data."
      ],
      "metadata": {
        "id": "TseqUlCFl5j_"
      },
      "id": "TseqUlCFl5j_"
    },
    {
      "cell_type": "markdown",
      "source": [
        "# Problem Statement\n",
        "The objective is to predict multiple target labels for each record in the dataset using a model that handles high cardinality features efficiently.\n",
        "\n"
      ],
      "metadata": {
        "id": "F0HTjYfCmRLp"
      },
      "id": "F0HTjYfCmRLp"
    },
    {
      "cell_type": "markdown",
      "id": "c9a195a2",
      "metadata": {
        "id": "c9a195a2"
      },
      "source": [
        "## *Imports*"
      ]
    },
    {
      "cell_type": "code",
      "execution_count": null,
      "id": "dbdc52e1",
      "metadata": {
        "id": "dbdc52e1"
      },
      "outputs": [],
      "source": [
        "!pip install datatable\n",
        "import datatable as dt\n",
        "from datatable.models import Ftrl\n",
        "import pandas as pd\n",
        "pd.set_option('display.max_columns', None)\n",
        "import warnings\n",
        "warnings.filterwarnings(\"ignore\")"
      ]
    },
    {
      "cell_type": "markdown",
      "source": [
        "## *Data Loading and Exploration:*\n",
        "Loaded the training, test, and label data using __datatable__ and conducted an initial exploration to understand the data structure."
      ],
      "metadata": {
        "id": "upvVcCapnLzA"
      },
      "id": "upvVcCapnLzA"
    },
    {
      "cell_type": "code",
      "execution_count": null,
      "id": "9f073538",
      "metadata": {
        "id": "9f073538"
      },
      "outputs": [],
      "source": [
        "train=dt.fread('train.csv')\n",
        "test=dt.fread('test_new.csv')\n",
        "trainlabels=dt.fread('trainLabels.csv')"
      ]
    },
    {
      "cell_type": "code",
      "execution_count": null,
      "id": "23c96b7f",
      "metadata": {
        "id": "23c96b7f",
        "outputId": "b4c48f01-dcdb-4532-a151-fb0a7f3dec77"
      },
      "outputs": [
        {
          "data": {
            "text/html": [
              "<div class='datatable'>\n",
              "  <table class='frame'>\n",
              "  <thead>\n",
              "    <tr class='colnames'><td class='row_index'></td><th>id</th><th>x1</th><th>x2</th><th>x3</th><th>x4</th><th>x5</th><th>x6</th><th>x7</th><th>x8</th><th>x9</th><th class='vellipsis'>&hellip;</th><th>x141</th><th>x142</th><th>x143</th><th>x144</th><th>x145</th></tr>\n",
              "    <tr class='coltypes'><td class='row_index'></td><td class='int' title='int32'>&#x25AA;&#x25AA;&#x25AA;&#x25AA;</td><td class='str' title='str32'>&#x25AA;&#x25AA;&#x25AA;&#x25AA;</td><td class='str' title='str32'>&#x25AA;&#x25AA;&#x25AA;&#x25AA;</td><td class='str' title='str32'>&#x25AA;&#x25AA;&#x25AA;&#x25AA;</td><td class='str' title='str32'>&#x25AA;&#x25AA;&#x25AA;&#x25AA;</td><td class='float' title='float64'>&#x25AA;&#x25AA;&#x25AA;&#x25AA;&#x25AA;&#x25AA;&#x25AA;&#x25AA;</td><td class='float' title='float64'>&#x25AA;&#x25AA;&#x25AA;&#x25AA;&#x25AA;&#x25AA;&#x25AA;&#x25AA;</td><td class='float' title='float64'>&#x25AA;&#x25AA;&#x25AA;&#x25AA;&#x25AA;&#x25AA;&#x25AA;&#x25AA;</td><td class='float' title='float64'>&#x25AA;&#x25AA;&#x25AA;&#x25AA;&#x25AA;&#x25AA;&#x25AA;&#x25AA;</td><td class='float' title='float64'>&#x25AA;&#x25AA;&#x25AA;&#x25AA;&#x25AA;&#x25AA;&#x25AA;&#x25AA;</td><td></td><td class='str' title='str32'>&#x25AA;&#x25AA;&#x25AA;&#x25AA;</td><td class='str' title='str32'>&#x25AA;&#x25AA;&#x25AA;&#x25AA;</td><td class='int' title='int32'>&#x25AA;&#x25AA;&#x25AA;&#x25AA;</td><td class='float' title='float64'>&#x25AA;&#x25AA;&#x25AA;&#x25AA;&#x25AA;&#x25AA;&#x25AA;&#x25AA;</td><td class='float' title='float64'>&#x25AA;&#x25AA;&#x25AA;&#x25AA;&#x25AA;&#x25AA;&#x25AA;&#x25AA;</td></tr>\n",
              "  </thead>\n",
              "  <tbody>\n",
              "    <tr><td class='row_index'>0</td><td>1</td><td>NO</td><td>NO</td><td>dqOiM6yBYgnVSezBRiQXs9bvOFnRqrtIoXRIElxD7g8=</td><td>GNjrXXA3SxbgD0dTRblAPO9jFJ7AIaZnu/f48g5XSUk=</td><td>0.576561</td><td>0.0731394</td><td>0.481394</td><td>0.115697</td><td>0.472474</td><td class=vellipsis>&hellip;</td><td>NO</td><td>YES</td><td>2</td><td>0.375535</td><td>0.46461</td></tr>\n",
              "    <tr><td class='row_index'>1</td><td>2</td><td></td><td></td><td></td><td></td><td>0</td><td>0</td><td>0</td><td>0</td><td>0</td><td class=vellipsis>&hellip;</td><td>NO</td><td>YES</td><td>4</td><td>0.741682</td><td>0.59363</td></tr>\n",
              "    <tr><td class='row_index'>2</td><td>3</td><td>NO</td><td>NO</td><td>ib4VpsEsqJHzDiyL0dZLQ+xQzDPrkxE+9T3mx5fv2wI=</td><td>X6dDAI/DZOWvu0Dg6gCgRoNr2vTUz/mc4SdHTNUPS38=</td><td>1.3418</td><td>0.0514217</td><td>0.935572</td><td>0.0414398</td><td>0.50171</td><td class=vellipsis>&hellip;</td><td>NO</td><td>NO</td><td>1</td><td>0.776467</td><td>0.493159</td></tr>\n",
              "    <tr><td class='row_index'>3</td><td>4</td><td>YES</td><td>NO</td><td>BfrqME7vdLw3suQp6YAT16W2piNUmpKhMzuDrVrFQ4w=</td><td>YGCdISifn4fLao/ASKdZFhGIq23oqzfSbUVb6px1pig=</td><td>0.653912</td><td>0.0414707</td><td>0.940787</td><td>0.0908508</td><td>0.556564</td><td class=vellipsis>&hellip;</td><td>NO</td><td>YES</td><td>3</td><td>0.168234</td><td>0.546582</td></tr>\n",
              "    <tr><td class='row_index'>4</td><td>5</td><td>NO</td><td>NO</td><td>RTjsrrR8DTlJyaIP9Q3Z8s0zseqlVQTrlSe97GCWfbk=</td><td>3yK2OPj1uYDsoMgsxsjY1FxXkOllD8Xfh20VYGqT+nU=</td><td>1.41592</td><td>0</td><td>1</td><td>0</td><td>0.375297</td><td class=vellipsis>&hellip;</td><td>NO</td><td>NO</td><td>1</td><td>0.246637</td><td>0.361045</td></tr>\n",
              "  </tbody>\n",
              "  </table>\n",
              "  <div class='footer'>\n",
              "    <div class='frame_dimensions'>5 rows &times; 146 columns</div>\n",
              "  </div>\n",
              "</div>\n"
            ],
            "text/plain": [
              "<Frame#21335370de0 5x146>"
            ]
          },
          "execution_count": 77,
          "metadata": {},
          "output_type": "execute_result"
        }
      ],
      "source": [
        "train.head(5)"
      ]
    },
    {
      "cell_type": "code",
      "execution_count": null,
      "id": "7668cfc1",
      "metadata": {
        "id": "7668cfc1",
        "outputId": "7c660c96-83b2-4bcb-d882-d2b60affddd7"
      },
      "outputs": [
        {
          "data": {
            "text/html": [
              "<div class='datatable'>\n",
              "  <table class='frame'>\n",
              "  <thead>\n",
              "    <tr class='colnames'><td class='row_index'></td><th>id</th><th>x1</th><th>x2</th><th>x3</th><th>x4</th><th>x5</th><th>x6</th><th>x7</th><th>x8</th><th>x9</th><th class='vellipsis'>&hellip;</th><th>x141</th><th>x142</th><th>x143</th><th>x144</th><th>x145</th></tr>\n",
              "    <tr class='coltypes'><td class='row_index'></td><td class='int' title='int32'>&#x25AA;&#x25AA;&#x25AA;&#x25AA;</td><td class='str' title='str32'>&#x25AA;&#x25AA;&#x25AA;&#x25AA;</td><td class='str' title='str32'>&#x25AA;&#x25AA;&#x25AA;&#x25AA;</td><td class='str' title='str32'>&#x25AA;&#x25AA;&#x25AA;&#x25AA;</td><td class='str' title='str32'>&#x25AA;&#x25AA;&#x25AA;&#x25AA;</td><td class='float' title='float64'>&#x25AA;&#x25AA;&#x25AA;&#x25AA;&#x25AA;&#x25AA;&#x25AA;&#x25AA;</td><td class='float' title='float64'>&#x25AA;&#x25AA;&#x25AA;&#x25AA;&#x25AA;&#x25AA;&#x25AA;&#x25AA;</td><td class='float' title='float64'>&#x25AA;&#x25AA;&#x25AA;&#x25AA;&#x25AA;&#x25AA;&#x25AA;&#x25AA;</td><td class='float' title='float64'>&#x25AA;&#x25AA;&#x25AA;&#x25AA;&#x25AA;&#x25AA;&#x25AA;&#x25AA;</td><td class='float' title='float64'>&#x25AA;&#x25AA;&#x25AA;&#x25AA;&#x25AA;&#x25AA;&#x25AA;&#x25AA;</td><td></td><td class='str' title='str32'>&#x25AA;&#x25AA;&#x25AA;&#x25AA;</td><td class='str' title='str32'>&#x25AA;&#x25AA;&#x25AA;&#x25AA;</td><td class='int' title='int32'>&#x25AA;&#x25AA;&#x25AA;&#x25AA;</td><td class='float' title='float64'>&#x25AA;&#x25AA;&#x25AA;&#x25AA;&#x25AA;&#x25AA;&#x25AA;&#x25AA;</td><td class='float' title='float64'>&#x25AA;&#x25AA;&#x25AA;&#x25AA;&#x25AA;&#x25AA;&#x25AA;&#x25AA;</td></tr>\n",
              "  </thead>\n",
              "  <tbody>\n",
              "    <tr><td class='row_index'>0</td><td>1698001</td><td>NO</td><td>NO</td><td>5KaYd5siHnBD/IjH8BF1fPz5zrCADHZia/Lrhlyxkvc=</td><td>FzMc/XY2ETaomhy8gPc9UL8LRkEnQA56+/wVF1fogk8=</td><td>1.4148</td><td>0</td><td>1</td><td>0</td><td>0.20206</td><td class=vellipsis>&hellip;</td><td>NO</td><td>NO</td><td>0</td><td>0.0896861</td><td>0.193344</td></tr>\n",
              "    <tr><td class='row_index'>1</td><td>1698002</td><td>NO</td><td>NO</td><td>9ACcuXc7MMm9V7jZSr3P3VxAKyMvLAtsdwPKwgncc+k=</td><td>WV5vAHFyqkeuyFB5KVNGFOBuwjkUGKYc8wh9QfpVzAA=</td><td>0.832679</td><td>0.0498339</td><td>0.945938</td><td>0.317427</td><td>0.482021</td><td class=vellipsis>&hellip;</td><td>NO</td><td>NO</td><td>5</td><td>0.945032</td><td>0.471318</td></tr>\n",
              "    <tr><td class='row_index'>2</td><td>1698003</td><td>NO</td><td>NO</td><td>MeBJ/ZzEIXfNKat4w1oeDxiMNKrAeY0PH41i00hpYDo=</td><td>tnLDGLnpYhzsik5+X+WPo4KQJoQA0TfWRlmEtQ3XNJQ=</td><td>1.41592</td><td>0</td><td>1</td><td>0</td><td>0.703088</td><td class=vellipsis>&hellip;</td><td>NO</td><td>NO</td><td>8</td><td>0.557175</td><td>0.693587</td></tr>\n",
              "    <tr><td class='row_index'>3</td><td>1698004</td><td></td><td></td><td></td><td></td><td>0</td><td>0</td><td>0</td><td>0</td><td>0</td><td class=vellipsis>&hellip;</td><td>NO</td><td>YES</td><td>0</td><td>0.870538</td><td>0.405822</td></tr>\n",
              "    <tr><td class='row_index'>4</td><td>1698005</td><td>NO</td><td>NO</td><td>uduY7XWJ8eFgTltv5P0rPh5GW6KwBu+tPFH13uQRN+0=</td><td>0L7+hNDV8S57etySgdljbm2AK1zQuLP77lGk2hyEmCo=</td><td>1.12921</td><td>0.0870202</td><td>0.81424</td><td>1.1128</td><td>0.874318</td><td class=vellipsis>&hellip;</td><td>NO</td><td>YES</td><td>2</td><td>0.224729</td><td>0.870909</td></tr>\n",
              "  </tbody>\n",
              "  </table>\n",
              "  <div class='footer'>\n",
              "    <div class='frame_dimensions'>5 rows &times; 146 columns</div>\n",
              "  </div>\n",
              "</div>\n"
            ],
            "text/plain": [
              "<Frame#213353706c0 5x146>"
            ]
          },
          "execution_count": 78,
          "metadata": {},
          "output_type": "execute_result"
        }
      ],
      "source": [
        "test.head(5)"
      ]
    },
    {
      "cell_type": "code",
      "execution_count": null,
      "id": "f840c305",
      "metadata": {
        "id": "f840c305",
        "outputId": "7d300fee-843f-4087-d294-106ae746c542"
      },
      "outputs": [
        {
          "data": {
            "text/html": [
              "<div class='datatable'>\n",
              "  <table class='frame'>\n",
              "  <thead>\n",
              "    <tr class='colnames'><td class='row_index'></td><th>id</th><th>y1</th><th>y2</th><th>y3</th><th>y4</th><th>y5</th><th>y6</th><th>y7</th><th>y8</th><th>y9</th><th class='vellipsis'>&hellip;</th><th>y29</th><th>y30</th><th>y31</th><th>y32</th><th>y33</th></tr>\n",
              "    <tr class='coltypes'><td class='row_index'></td><td class='int' title='int32'>&#x25AA;&#x25AA;&#x25AA;&#x25AA;</td><td class='bool' title='bool8'>&#x25AA;</td><td class='bool' title='bool8'>&#x25AA;</td><td class='bool' title='bool8'>&#x25AA;</td><td class='bool' title='bool8'>&#x25AA;</td><td class='bool' title='bool8'>&#x25AA;</td><td class='bool' title='bool8'>&#x25AA;</td><td class='bool' title='bool8'>&#x25AA;</td><td class='bool' title='bool8'>&#x25AA;</td><td class='bool' title='bool8'>&#x25AA;</td><td></td><td class='bool' title='bool8'>&#x25AA;</td><td class='bool' title='bool8'>&#x25AA;</td><td class='bool' title='bool8'>&#x25AA;</td><td class='bool' title='bool8'>&#x25AA;</td><td class='bool' title='bool8'>&#x25AA;</td></tr>\n",
              "  </thead>\n",
              "  <tbody>\n",
              "    <tr><td class='row_index'>0</td><td>1</td><td>0</td><td>0</td><td>0</td><td>0</td><td>0</td><td>0</td><td>0</td><td>0</td><td>0</td><td class=vellipsis>&hellip;</td><td>0</td><td>0</td><td>0</td><td>0</td><td>1</td></tr>\n",
              "    <tr><td class='row_index'>1</td><td>2</td><td>0</td><td>0</td><td>0</td><td>0</td><td>0</td><td>0</td><td>0</td><td>0</td><td>0</td><td class=vellipsis>&hellip;</td><td>0</td><td>0</td><td>0</td><td>1</td><td>0</td></tr>\n",
              "    <tr><td class='row_index'>2</td><td>3</td><td>0</td><td>0</td><td>1</td><td>0</td><td>0</td><td>0</td><td>0</td><td>0</td><td>0</td><td class=vellipsis>&hellip;</td><td>0</td><td>0</td><td>0</td><td>0</td><td>0</td></tr>\n",
              "    <tr><td class='row_index'>3</td><td>4</td><td>0</td><td>0</td><td>0</td><td>0</td><td>0</td><td>0</td><td>0</td><td>0</td><td>0</td><td class=vellipsis>&hellip;</td><td>0</td><td>0</td><td>0</td><td>0</td><td>1</td></tr>\n",
              "    <tr><td class='row_index'>4</td><td>5</td><td>0</td><td>0</td><td>0</td><td>0</td><td>0</td><td>0</td><td>0</td><td>0</td><td>0</td><td class=vellipsis>&hellip;</td><td>0</td><td>0</td><td>0</td><td>0</td><td>1</td></tr>\n",
              "  </tbody>\n",
              "  </table>\n",
              "  <div class='footer'>\n",
              "    <div class='frame_dimensions'>5 rows &times; 34 columns</div>\n",
              "  </div>\n",
              "</div>\n"
            ],
            "text/plain": [
              "<Frame#21335370810 5x34>"
            ]
          },
          "execution_count": 79,
          "metadata": {},
          "output_type": "execute_result"
        }
      ],
      "source": [
        "trainlabels.head(5)"
      ]
    },
    {
      "cell_type": "code",
      "execution_count": null,
      "id": "af43ec10",
      "metadata": {
        "id": "af43ec10",
        "outputId": "03477b85-5cf7-4229-c080-f86e10a95d79"
      },
      "outputs": [
        {
          "name": "stdout",
          "output_type": "stream",
          "text": [
            "(9999, 146) (2000, 146) (49999, 34)\n"
          ]
        }
      ],
      "source": [
        "print(train.shape,test.shape,trainlabels.shape)"
      ]
    },
    {
      "cell_type": "markdown",
      "id": "bb606273",
      "metadata": {
        "id": "bb606273"
      },
      "source": [
        "## *Data Merging*\n",
        "\n",
        "Merged the training data with the labels based on the __id__ column to create a comprehensive dataset for model training."
      ]
    },
    {
      "cell_type": "code",
      "execution_count": null,
      "id": "6190da93",
      "metadata": {
        "id": "6190da93"
      },
      "outputs": [],
      "source": [
        " #Set keys for joining\n",
        "train.key = \"id\"\n",
        "trainlabels.key = \"id\""
      ]
    },
    {
      "cell_type": "code",
      "execution_count": null,
      "id": "4b01f3ff",
      "metadata": {
        "id": "4b01f3ff"
      },
      "outputs": [],
      "source": [
        "train_merged = train[:, :, dt.join(trainlabels)]"
      ]
    },
    {
      "cell_type": "code",
      "execution_count": null,
      "id": "7856bfec",
      "metadata": {
        "id": "7856bfec",
        "outputId": "1df0e402-be15-475a-b8ff-2513e6f46f12"
      },
      "outputs": [
        {
          "name": "stdout",
          "output_type": "stream",
          "text": [
            "(9999, 179)\n"
          ]
        },
        {
          "data": {
            "text/html": [
              "<div class='datatable'>\n",
              "  <table class='frame'>\n",
              "  <thead>\n",
              "    <tr class='colnames'><td class='row_index'></td><th>id</th><th>x1</th><th>x2</th><th>x3</th><th>x4</th><th>x5</th><th>x6</th><th>x7</th><th>x8</th><th>x9</th><th class='vellipsis'>&hellip;</th><th>y29</th><th>y30</th><th>y31</th><th>y32</th><th>y33</th></tr>\n",
              "    <tr class='coltypes'><td class='row_index'></td><td class='int' title='int32'>&#x25AA;&#x25AA;&#x25AA;&#x25AA;</td><td class='str' title='str32'>&#x25AA;&#x25AA;&#x25AA;&#x25AA;</td><td class='str' title='str32'>&#x25AA;&#x25AA;&#x25AA;&#x25AA;</td><td class='str' title='str32'>&#x25AA;&#x25AA;&#x25AA;&#x25AA;</td><td class='str' title='str32'>&#x25AA;&#x25AA;&#x25AA;&#x25AA;</td><td class='float' title='float64'>&#x25AA;&#x25AA;&#x25AA;&#x25AA;&#x25AA;&#x25AA;&#x25AA;&#x25AA;</td><td class='float' title='float64'>&#x25AA;&#x25AA;&#x25AA;&#x25AA;&#x25AA;&#x25AA;&#x25AA;&#x25AA;</td><td class='float' title='float64'>&#x25AA;&#x25AA;&#x25AA;&#x25AA;&#x25AA;&#x25AA;&#x25AA;&#x25AA;</td><td class='float' title='float64'>&#x25AA;&#x25AA;&#x25AA;&#x25AA;&#x25AA;&#x25AA;&#x25AA;&#x25AA;</td><td class='float' title='float64'>&#x25AA;&#x25AA;&#x25AA;&#x25AA;&#x25AA;&#x25AA;&#x25AA;&#x25AA;</td><td></td><td class='bool' title='bool8'>&#x25AA;</td><td class='bool' title='bool8'>&#x25AA;</td><td class='bool' title='bool8'>&#x25AA;</td><td class='bool' title='bool8'>&#x25AA;</td><td class='bool' title='bool8'>&#x25AA;</td></tr>\n",
              "  </thead>\n",
              "  <tbody>\n",
              "    <tr><td class='row_index'>0</td><td>1</td><td>NO</td><td>NO</td><td>dqOiM6yBYgnVSezBRiQXs9bvOFnRqrtIoXRIElxD7g8=</td><td>GNjrXXA3SxbgD0dTRblAPO9jFJ7AIaZnu/f48g5XSUk=</td><td>0.576561</td><td>0.0731394</td><td>0.481394</td><td>0.115697</td><td>0.472474</td><td class=vellipsis>&hellip;</td><td>0</td><td>0</td><td>0</td><td>0</td><td>1</td></tr>\n",
              "    <tr><td class='row_index'>1</td><td>2</td><td></td><td></td><td></td><td></td><td>0</td><td>0</td><td>0</td><td>0</td><td>0</td><td class=vellipsis>&hellip;</td><td>0</td><td>0</td><td>0</td><td>1</td><td>0</td></tr>\n",
              "    <tr><td class='row_index'>2</td><td>3</td><td>NO</td><td>NO</td><td>ib4VpsEsqJHzDiyL0dZLQ+xQzDPrkxE+9T3mx5fv2wI=</td><td>X6dDAI/DZOWvu0Dg6gCgRoNr2vTUz/mc4SdHTNUPS38=</td><td>1.3418</td><td>0.0514217</td><td>0.935572</td><td>0.0414398</td><td>0.50171</td><td class=vellipsis>&hellip;</td><td>0</td><td>0</td><td>0</td><td>0</td><td>0</td></tr>\n",
              "    <tr><td class='row_index'>3</td><td>4</td><td>YES</td><td>NO</td><td>BfrqME7vdLw3suQp6YAT16W2piNUmpKhMzuDrVrFQ4w=</td><td>YGCdISifn4fLao/ASKdZFhGIq23oqzfSbUVb6px1pig=</td><td>0.653912</td><td>0.0414707</td><td>0.940787</td><td>0.0908508</td><td>0.556564</td><td class=vellipsis>&hellip;</td><td>0</td><td>0</td><td>0</td><td>0</td><td>1</td></tr>\n",
              "    <tr><td class='row_index'>4</td><td>5</td><td>NO</td><td>NO</td><td>RTjsrrR8DTlJyaIP9Q3Z8s0zseqlVQTrlSe97GCWfbk=</td><td>3yK2OPj1uYDsoMgsxsjY1FxXkOllD8Xfh20VYGqT+nU=</td><td>1.41592</td><td>0</td><td>1</td><td>0</td><td>0.375297</td><td class=vellipsis>&hellip;</td><td>0</td><td>0</td><td>0</td><td>0</td><td>1</td></tr>\n",
              "  </tbody>\n",
              "  </table>\n",
              "  <div class='footer'>\n",
              "    <div class='frame_dimensions'>5 rows &times; 179 columns</div>\n",
              "  </div>\n",
              "</div>\n"
            ],
            "text/plain": [
              "<Frame#2133536bbd0 5x179>"
            ]
          },
          "execution_count": 87,
          "metadata": {},
          "output_type": "execute_result"
        }
      ],
      "source": [
        "print(train_merged.shape)\n",
        "train_merged.head(5)"
      ]
    },
    {
      "cell_type": "markdown",
      "id": "fc1f3dd5",
      "metadata": {
        "id": "fc1f3dd5"
      },
      "source": [
        "## *Data Preparation*\n",
        "\n",
        "Split the merged data into features (X_train) and labels (y_train) and prepared the test data (X_test) for prediction."
      ]
    },
    {
      "cell_type": "code",
      "execution_count": null,
      "id": "bde83345",
      "metadata": {
        "id": "bde83345"
      },
      "outputs": [],
      "source": [
        "X_train = train_merged[:, 1:-(len(trainlabels.names) - 1)]  # All columns except the ID and label columns\n",
        "y_train = train_merged[:, -(len(trainlabels.names) - 1):]  # All columns corresponding to the labels\n"
      ]
    },
    {
      "cell_type": "code",
      "execution_count": null,
      "id": "6f70d706",
      "metadata": {
        "id": "6f70d706",
        "outputId": "6884d197-2b4e-4d1c-c1b3-49a77feeefa9"
      },
      "outputs": [
        {
          "name": "stdout",
          "output_type": "stream",
          "text": [
            "(9999, 145) (9999, 33)\n"
          ]
        }
      ],
      "source": [
        "print(X_train.shape, y_train.shape)\n"
      ]
    },
    {
      "cell_type": "code",
      "execution_count": null,
      "id": "415cb2fd",
      "metadata": {
        "id": "415cb2fd",
        "outputId": "1496cf0a-6c80-4545-b20e-f635477ac83b"
      },
      "outputs": [
        {
          "data": {
            "text/html": [
              "<div class='datatable'>\n",
              "  <table class='frame'>\n",
              "  <thead>\n",
              "    <tr class='colnames'><td class='row_index'></td><th>x1</th><th>x2</th><th>x3</th><th>x4</th><th>x5</th><th>x6</th><th>x7</th><th>x8</th><th>x9</th><th>x10</th><th class='vellipsis'>&hellip;</th><th>x141</th><th>x142</th><th>x143</th><th>x144</th><th>x145</th></tr>\n",
              "    <tr class='coltypes'><td class='row_index'></td><td class='str' title='str32'>&#x25AA;&#x25AA;&#x25AA;&#x25AA;</td><td class='str' title='str32'>&#x25AA;&#x25AA;&#x25AA;&#x25AA;</td><td class='str' title='str32'>&#x25AA;&#x25AA;&#x25AA;&#x25AA;</td><td class='str' title='str32'>&#x25AA;&#x25AA;&#x25AA;&#x25AA;</td><td class='float' title='float64'>&#x25AA;&#x25AA;&#x25AA;&#x25AA;&#x25AA;&#x25AA;&#x25AA;&#x25AA;</td><td class='float' title='float64'>&#x25AA;&#x25AA;&#x25AA;&#x25AA;&#x25AA;&#x25AA;&#x25AA;&#x25AA;</td><td class='float' title='float64'>&#x25AA;&#x25AA;&#x25AA;&#x25AA;&#x25AA;&#x25AA;&#x25AA;&#x25AA;</td><td class='float' title='float64'>&#x25AA;&#x25AA;&#x25AA;&#x25AA;&#x25AA;&#x25AA;&#x25AA;&#x25AA;</td><td class='float' title='float64'>&#x25AA;&#x25AA;&#x25AA;&#x25AA;&#x25AA;&#x25AA;&#x25AA;&#x25AA;</td><td class='str' title='str32'>&#x25AA;&#x25AA;&#x25AA;&#x25AA;</td><td></td><td class='str' title='str32'>&#x25AA;&#x25AA;&#x25AA;&#x25AA;</td><td class='str' title='str32'>&#x25AA;&#x25AA;&#x25AA;&#x25AA;</td><td class='int' title='int32'>&#x25AA;&#x25AA;&#x25AA;&#x25AA;</td><td class='float' title='float64'>&#x25AA;&#x25AA;&#x25AA;&#x25AA;&#x25AA;&#x25AA;&#x25AA;&#x25AA;</td><td class='float' title='float64'>&#x25AA;&#x25AA;&#x25AA;&#x25AA;&#x25AA;&#x25AA;&#x25AA;&#x25AA;</td></tr>\n",
              "  </thead>\n",
              "  <tbody>\n",
              "    <tr><td class='row_index'>0</td><td>NO</td><td>NO</td><td>dqOiM6yBYgnVSezBRiQXs9bvOFnRqrtIoXRIElxD7g8=</td><td>GNjrXXA3SxbgD0dTRblAPO9jFJ7AIaZnu/f48g5XSUk=</td><td>0.576561</td><td>0.0731394</td><td>0.481394</td><td>0.115697</td><td>0.472474</td><td>YES</td><td class=vellipsis>&hellip;</td><td>NO</td><td>YES</td><td>2</td><td>0.375535</td><td>0.46461</td></tr>\n",
              "    <tr><td class='row_index'>1</td><td></td><td></td><td></td><td></td><td>0</td><td>0</td><td>0</td><td>0</td><td>0</td><td></td><td class=vellipsis>&hellip;</td><td>NO</td><td>YES</td><td>4</td><td>0.741682</td><td>0.59363</td></tr>\n",
              "    <tr><td class='row_index'>2</td><td>NO</td><td>NO</td><td>ib4VpsEsqJHzDiyL0dZLQ+xQzDPrkxE+9T3mx5fv2wI=</td><td>X6dDAI/DZOWvu0Dg6gCgRoNr2vTUz/mc4SdHTNUPS38=</td><td>1.3418</td><td>0.0514217</td><td>0.935572</td><td>0.0414398</td><td>0.50171</td><td>NO</td><td class=vellipsis>&hellip;</td><td>NO</td><td>NO</td><td>1</td><td>0.776467</td><td>0.493159</td></tr>\n",
              "    <tr><td class='row_index'>3</td><td>YES</td><td>NO</td><td>BfrqME7vdLw3suQp6YAT16W2piNUmpKhMzuDrVrFQ4w=</td><td>YGCdISifn4fLao/ASKdZFhGIq23oqzfSbUVb6px1pig=</td><td>0.653912</td><td>0.0414707</td><td>0.940787</td><td>0.0908508</td><td>0.556564</td><td>YES</td><td class=vellipsis>&hellip;</td><td>NO</td><td>YES</td><td>3</td><td>0.168234</td><td>0.546582</td></tr>\n",
              "    <tr><td class='row_index'>4</td><td>NO</td><td>NO</td><td>RTjsrrR8DTlJyaIP9Q3Z8s0zseqlVQTrlSe97GCWfbk=</td><td>3yK2OPj1uYDsoMgsxsjY1FxXkOllD8Xfh20VYGqT+nU=</td><td>1.41592</td><td>0</td><td>1</td><td>0</td><td>0.375297</td><td>NO</td><td class=vellipsis>&hellip;</td><td>NO</td><td>NO</td><td>1</td><td>0.246637</td><td>0.361045</td></tr>\n",
              "  </tbody>\n",
              "  </table>\n",
              "  <div class='footer'>\n",
              "    <div class='frame_dimensions'>5 rows &times; 145 columns</div>\n",
              "  </div>\n",
              "</div>\n"
            ],
            "text/plain": [
              "<Frame#2133534eeb0 5x145>"
            ]
          },
          "execution_count": 90,
          "metadata": {},
          "output_type": "execute_result"
        }
      ],
      "source": [
        "X_train.head(5)"
      ]
    },
    {
      "cell_type": "code",
      "execution_count": null,
      "id": "24185702",
      "metadata": {
        "id": "24185702",
        "outputId": "f7c22806-7ecf-4755-d42a-51a05faf2e57"
      },
      "outputs": [
        {
          "data": {
            "text/html": [
              "<div class='datatable'>\n",
              "  <table class='frame'>\n",
              "  <thead>\n",
              "    <tr class='colnames'><td class='row_index'></td><th>y1</th><th>y2</th><th>y3</th><th>y4</th><th>y5</th><th>y6</th><th>y7</th><th>y8</th><th>y9</th><th>y10</th><th class='vellipsis'>&hellip;</th><th>y29</th><th>y30</th><th>y31</th><th>y32</th><th>y33</th></tr>\n",
              "    <tr class='coltypes'><td class='row_index'></td><td class='bool' title='bool8'>&#x25AA;</td><td class='bool' title='bool8'>&#x25AA;</td><td class='bool' title='bool8'>&#x25AA;</td><td class='bool' title='bool8'>&#x25AA;</td><td class='bool' title='bool8'>&#x25AA;</td><td class='bool' title='bool8'>&#x25AA;</td><td class='bool' title='bool8'>&#x25AA;</td><td class='bool' title='bool8'>&#x25AA;</td><td class='bool' title='bool8'>&#x25AA;</td><td class='bool' title='bool8'>&#x25AA;</td><td></td><td class='bool' title='bool8'>&#x25AA;</td><td class='bool' title='bool8'>&#x25AA;</td><td class='bool' title='bool8'>&#x25AA;</td><td class='bool' title='bool8'>&#x25AA;</td><td class='bool' title='bool8'>&#x25AA;</td></tr>\n",
              "  </thead>\n",
              "  <tbody>\n",
              "    <tr><td class='row_index'>0</td><td>0</td><td>0</td><td>0</td><td>0</td><td>0</td><td>0</td><td>0</td><td>0</td><td>0</td><td>0</td><td class=vellipsis>&hellip;</td><td>0</td><td>0</td><td>0</td><td>0</td><td>1</td></tr>\n",
              "    <tr><td class='row_index'>1</td><td>0</td><td>0</td><td>0</td><td>0</td><td>0</td><td>0</td><td>0</td><td>0</td><td>0</td><td>0</td><td class=vellipsis>&hellip;</td><td>0</td><td>0</td><td>0</td><td>1</td><td>0</td></tr>\n",
              "    <tr><td class='row_index'>2</td><td>0</td><td>0</td><td>1</td><td>0</td><td>0</td><td>0</td><td>0</td><td>0</td><td>0</td><td>0</td><td class=vellipsis>&hellip;</td><td>0</td><td>0</td><td>0</td><td>0</td><td>0</td></tr>\n",
              "    <tr><td class='row_index'>3</td><td>0</td><td>0</td><td>0</td><td>0</td><td>0</td><td>0</td><td>0</td><td>0</td><td>0</td><td>0</td><td class=vellipsis>&hellip;</td><td>0</td><td>0</td><td>0</td><td>0</td><td>1</td></tr>\n",
              "    <tr><td class='row_index'>4</td><td>0</td><td>0</td><td>0</td><td>0</td><td>0</td><td>0</td><td>0</td><td>0</td><td>0</td><td>0</td><td class=vellipsis>&hellip;</td><td>0</td><td>0</td><td>0</td><td>0</td><td>1</td></tr>\n",
              "  </tbody>\n",
              "  </table>\n",
              "  <div class='footer'>\n",
              "    <div class='frame_dimensions'>5 rows &times; 33 columns</div>\n",
              "  </div>\n",
              "</div>\n"
            ],
            "text/plain": [
              "<Frame#2133534e730 5x33>"
            ]
          },
          "execution_count": 91,
          "metadata": {},
          "output_type": "execute_result"
        }
      ],
      "source": [
        "y_train.head(5)"
      ]
    },
    {
      "cell_type": "code",
      "execution_count": null,
      "id": "76da7fac",
      "metadata": {
        "id": "76da7fac"
      },
      "outputs": [],
      "source": [
        "test_ids = test[:, \"id\"]\n",
        "X_test = test[:, 1:]"
      ]
    },
    {
      "cell_type": "markdown",
      "id": "e967bc2d",
      "metadata": {
        "id": "e967bc2d"
      },
      "source": [
        "## *Model Training and Prediction*\n",
        "\n",
        " *Trained an FTRL model for each target label and made predictions on the test data.*\n",
        "\n",
        "\n",
        " __FTRL Model__: Chosen for its ability to handle large datasets with high cardinality features efficiently. The Follow-The-Regularized-Leader (FTRL) model combines L1 and L2 regularization, making it suitable for sparse datasets. It is selected due to its effectiveness in managing high-dimensional feature space and providing probabilistic outputs for each label"
      ]
    },
    {
      "cell_type": "code",
      "execution_count": null,
      "id": "394989d2",
      "metadata": {
        "id": "394989d2",
        "outputId": "a20e9a70-4b5e-4393-8f6b-9c2ccb696d24"
      },
      "outputs": [
        {
          "name": "stdout",
          "output_type": "stream",
          "text": [
            "Model for target y1\n",
            "Model for target y2\n",
            "Model for target y3\n",
            "Model for target y4\n",
            "Model for target y5\n",
            "Model for target y6\n",
            "Model for target y7\n",
            "Model for target y8\n",
            "Model for target y9\n",
            "Model for target y10\n",
            "Model for target y11\n",
            "Model for target y12\n",
            "Model for target y13\n",
            "Model for target y14\n",
            "Model for target y15\n",
            "Model for target y16\n",
            "Model for target y17\n",
            "Model for target y18\n",
            "Model for target y19\n",
            "Model for target y20\n",
            "Model for target y21\n",
            "Model for target y22\n",
            "Model for target y23\n",
            "Model for target y24\n",
            "Model for target y25\n",
            "Model for target y26\n",
            "Model for target y27\n",
            "Model for target y28\n",
            "Model for target y29\n",
            "Model for target y30\n",
            "Model for target y31\n",
            "Model for target y32\n",
            "Model for target y33\n"
          ]
        }
      ],
      "source": [
        "submission = dt.Frame()\n",
        "\n",
        "# Train and predict for each target\n",
        "for target in y_train.names:\n",
        "    print(f'Model for target {target}')\n",
        "\n",
        "    model_ftrl = Ftrl(nepochs=5, nbins=10**8, lambda1=0.1)\n",
        "    model_ftrl.fit(X_train, y_train[target])\n",
        "\n",
        "    preds_test = model_ftrl.predict(X_test)\n",
        "    submission_target = dt.Frame(id_label=test_ids[:, dt.as_type(dt.f.id, str) + f'_{target}'],\n",
        "                                 pred=preds_test['True'])\n",
        "    submission.rbind(submission_target)"
      ]
    },
    {
      "cell_type": "markdown",
      "id": "23ebf1e1",
      "metadata": {
        "id": "23ebf1e1"
      },
      "source": [
        "## *Final Submission*\n",
        "\n",
        "Created a submission file with the predicted probabilities for each target label."
      ]
    },
    {
      "cell_type": "code",
      "execution_count": null,
      "id": "4f87b1d1",
      "metadata": {
        "id": "4f87b1d1"
      },
      "outputs": [],
      "source": [
        "# Save submission\n",
        "submission.to_csv('submission.csv')"
      ]
    },
    {
      "cell_type": "code",
      "execution_count": null,
      "id": "a6ae43e0",
      "metadata": {
        "id": "a6ae43e0"
      },
      "outputs": [],
      "source": [
        "submission=pd.read_csv('submission.csv')"
      ]
    },
    {
      "cell_type": "code",
      "execution_count": null,
      "id": "1e722c3b",
      "metadata": {
        "id": "1e722c3b",
        "outputId": "70e8fcc8-c2a2-4592-efc1-4881d6e13192"
      },
      "outputs": [
        {
          "data": {
            "text/html": [
              "<div>\n",
              "<style scoped>\n",
              "    .dataframe tbody tr th:only-of-type {\n",
              "        vertical-align: middle;\n",
              "    }\n",
              "\n",
              "    .dataframe tbody tr th {\n",
              "        vertical-align: top;\n",
              "    }\n",
              "\n",
              "    .dataframe thead th {\n",
              "        text-align: right;\n",
              "    }\n",
              "</style>\n",
              "<table border=\"1\" class=\"dataframe\">\n",
              "  <thead>\n",
              "    <tr style=\"text-align: right;\">\n",
              "      <th></th>\n",
              "      <th>id_label</th>\n",
              "      <th>pred</th>\n",
              "    </tr>\n",
              "  </thead>\n",
              "  <tbody>\n",
              "    <tr>\n",
              "      <th>0</th>\n",
              "      <td>1698001_y1</td>\n",
              "      <td>0.001717</td>\n",
              "    </tr>\n",
              "    <tr>\n",
              "      <th>1</th>\n",
              "      <td>1698002_y1</td>\n",
              "      <td>0.001951</td>\n",
              "    </tr>\n",
              "    <tr>\n",
              "      <th>2</th>\n",
              "      <td>1698003_y1</td>\n",
              "      <td>0.002069</td>\n",
              "    </tr>\n",
              "    <tr>\n",
              "      <th>3</th>\n",
              "      <td>1698004_y1</td>\n",
              "      <td>0.020571</td>\n",
              "    </tr>\n",
              "    <tr>\n",
              "      <th>4</th>\n",
              "      <td>1698005_y1</td>\n",
              "      <td>0.002927</td>\n",
              "    </tr>\n",
              "    <tr>\n",
              "      <th>...</th>\n",
              "      <td>...</td>\n",
              "      <td>...</td>\n",
              "    </tr>\n",
              "    <tr>\n",
              "      <th>65995</th>\n",
              "      <td>1699996_y33</td>\n",
              "      <td>0.423708</td>\n",
              "    </tr>\n",
              "    <tr>\n",
              "      <th>65996</th>\n",
              "      <td>1699997_y33</td>\n",
              "      <td>0.344908</td>\n",
              "    </tr>\n",
              "    <tr>\n",
              "      <th>65997</th>\n",
              "      <td>1699998_y33</td>\n",
              "      <td>0.888941</td>\n",
              "    </tr>\n",
              "    <tr>\n",
              "      <th>65998</th>\n",
              "      <td>1699999_y33</td>\n",
              "      <td>0.817318</td>\n",
              "    </tr>\n",
              "    <tr>\n",
              "      <th>65999</th>\n",
              "      <td>1700000_y33</td>\n",
              "      <td>0.545588</td>\n",
              "    </tr>\n",
              "  </tbody>\n",
              "</table>\n",
              "<p>66000 rows × 2 columns</p>\n",
              "</div>"
            ],
            "text/plain": [
              "          id_label      pred\n",
              "0       1698001_y1  0.001717\n",
              "1       1698002_y1  0.001951\n",
              "2       1698003_y1  0.002069\n",
              "3       1698004_y1  0.020571\n",
              "4       1698005_y1  0.002927\n",
              "...            ...       ...\n",
              "65995  1699996_y33  0.423708\n",
              "65996  1699997_y33  0.344908\n",
              "65997  1699998_y33  0.888941\n",
              "65998  1699999_y33  0.817318\n",
              "65999  1700000_y33  0.545588\n",
              "\n",
              "[66000 rows x 2 columns]"
            ]
          },
          "execution_count": 107,
          "metadata": {},
          "output_type": "execute_result"
        }
      ],
      "source": [
        "submission"
      ]
    },
    {
      "cell_type": "markdown",
      "id": "652a2295",
      "metadata": {
        "id": "652a2295"
      },
      "source": [
        "## *Report*\n",
        "\n",
        "***Overview***\n",
        "\n",
        "  In this project, developed a predictive model using the __Follow-the-Regularized-Leader (FTRL)__ algorithm to classify multiple targets from a given dataset and  leveraged the __datatable__ library for efficient data handling and processing, which is particularly beneficial when working with large datasets.\n",
        "\n",
        "\n",
        "### *Hash Handling*\n",
        "\n",
        "The __FTRL algorithm__ and the __datatable__ library handle __hash__ encoding internally. The Ftrl model uses a hashing trick to efficiently map features into a fixed-size hash space, which helps in handling high-dimensional data and prevents overfitting. This approach is particularly useful for models with sparse data and a large number of categorical features.\n",
        "\n",
        "In this project, we didn't explicitly preprocess or encode features as the FTRL model inherently supports hashing for feature representation. This allowed us to focus on the overall workflow without worrying about feature engineering complexities.\n",
        "\n",
        "In order to treat __hash__ columns we can use __hashlib__ library which converts the hashes into numbers."
      ]
    },
    {
      "cell_type": "code",
      "execution_count": null,
      "id": "2d09fe54",
      "metadata": {
        "id": "2d09fe54"
      },
      "outputs": [],
      "source": []
    }
  ],
  "metadata": {
    "kernelspec": {
      "display_name": "Python 3 (ipykernel)",
      "language": "python",
      "name": "python3"
    },
    "language_info": {
      "codemirror_mode": {
        "name": "ipython",
        "version": 3
      },
      "file_extension": ".py",
      "mimetype": "text/x-python",
      "name": "python",
      "nbconvert_exporter": "python",
      "pygments_lexer": "ipython3",
      "version": "3.10.9"
    },
    "colab": {
      "provenance": [],
      "include_colab_link": true
    }
  },
  "nbformat": 4,
  "nbformat_minor": 5
}